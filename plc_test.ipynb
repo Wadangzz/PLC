{
 "cells": [
  {
   "cell_type": "code",
   "execution_count": 10,
   "metadata": {},
   "outputs": [],
   "source": [
    "import my_plcpy\n",
    "import time\n",
    "import tkinter as tk\n",
    "from tkinter import ttk"
   ]
  },
  {
   "cell_type": "code",
   "execution_count": 11,
   "metadata": {},
   "outputs": [],
   "source": [
    "plc = my_plcpy.PlcConnect()"
   ]
  },
  {
   "cell_type": "code",
   "execution_count": 14,
   "metadata": {},
   "outputs": [
    {
     "data": {
      "text/plain": [
       "(True, '연결 성공')"
      ]
     },
     "execution_count": 14,
     "metadata": {},
     "output_type": "execute_result"
    }
   ],
   "source": [
    "plc.connect()"
   ]
  },
  {
   "cell_type": "code",
   "execution_count": 15,
   "metadata": {},
   "outputs": [
    {
     "data": {
      "text/plain": [
       "(True, '연결 해제 성공')"
      ]
     },
     "execution_count": 15,
     "metadata": {},
     "output_type": "execute_result"
    }
   ],
   "source": [
    "plc.disconnect()"
   ]
  },
  {
   "cell_type": "code",
   "execution_count": 9,
   "metadata": {},
   "outputs": [
    {
     "data": {
      "text/plain": [
       "[('D0', 0),\n",
       " ('D1', 0),\n",
       " ('D2', 11675),\n",
       " ('D3', 250),\n",
       " ('D4', 8095),\n",
       " ('D5', 326),\n",
       " ('D6', 74),\n",
       " ('D7', 250),\n",
       " ('D8', 260),\n",
       " ('D9', 3494)]"
      ]
     },
     "execution_count": 9,
     "metadata": {},
     "output_type": "execute_result"
    }
   ],
   "source": [
    "plc.ReadDeviceBlock(0,10)"
   ]
  },
  {
   "cell_type": "code",
   "execution_count": 34,
   "metadata": {},
   "outputs": [
    {
     "name": "stdout",
     "output_type": "stream",
     "text": [
      "[0, 1, 2, 3, 4, 5, 6, 7, 8, 9]\n"
     ]
    },
    {
     "data": {
      "text/plain": [
       "True"
      ]
     },
     "execution_count": 34,
     "metadata": {},
     "output_type": "execute_result"
    }
   ],
   "source": [
    "plc.WriteDeviceBlock(0,10)"
   ]
  },
  {
   "cell_type": "markdown",
   "metadata": {},
   "source": [
    "# Bit Mask\n",
    "- Python으로 Word 데이터 받아서 Bit Masking해서 Device각 자리에 넣기기"
   ]
  },
  {
   "cell_type": "code",
   "execution_count": 1,
   "metadata": {},
   "outputs": [
    {
     "ename": "NameError",
     "evalue": "name 'plc' is not defined",
     "output_type": "error",
     "traceback": [
      "\u001b[1;31m---------------------------------------------------------------------------\u001b[0m",
      "\u001b[1;31mNameError\u001b[0m                                 Traceback (most recent call last)",
      "Input \u001b[1;32mIn [1]\u001b[0m, in \u001b[0;36m<cell line: 1>\u001b[1;34m()\u001b[0m\n\u001b[1;32m----> 1\u001b[0m act \u001b[38;5;241m=\u001b[39m \u001b[43mplc\u001b[49m\u001b[38;5;241m.\u001b[39mplc\n\u001b[0;32m      4\u001b[0m value \u001b[38;5;241m=\u001b[39m act\u001b[38;5;241m.\u001b[39mGetDevice(\u001b[38;5;124m\"\u001b[39m\u001b[38;5;124mD4\u001b[39m\u001b[38;5;124m\"\u001b[39m)\n\u001b[0;32m      6\u001b[0m binary_str \u001b[38;5;241m=\u001b[39m \u001b[38;5;28mformat\u001b[39m(value[\u001b[38;5;241m1\u001b[39m], \u001b[38;5;124m'\u001b[39m\u001b[38;5;124m016b\u001b[39m\u001b[38;5;124m'\u001b[39m) \u001b[38;5;66;03m# data를 2진수 변환해서 str list 반환환\u001b[39;00m\n",
      "\u001b[1;31mNameError\u001b[0m: name 'plc' is not defined"
     ]
    }
   ],
   "source": [
    "act = plc.plc\n",
    "\n",
    "\n",
    "value = act.GetDevice(\"D4\")\n",
    "\n",
    "binary_str = format(value[1], '016b') # data를 2진수 변환해서 str list 반환환\n",
    "print(binary_str)\n",
    "print(type(binary_str))\n",
    "\n",
    "for i in range(16):\n",
    "    bin = (value[1] & 1 << i%16) != 0\n",
    "    act.SetDevice(f\"D20.{hex(i)}\",bin) # Device의 각 자리가 16진수로 되있어서 hex 강제 형 변환환\n"
   ]
  },
  {
   "cell_type": "code",
   "execution_count": null,
   "metadata": {},
   "outputs": [],
   "source": []
  }
 ],
 "metadata": {
  "kernelspec": {
   "display_name": "plc_env",
   "language": "python",
   "name": "python3"
  },
  "language_info": {
   "codemirror_mode": {
    "name": "ipython",
    "version": 3
   },
   "file_extension": ".py",
   "mimetype": "text/x-python",
   "name": "python",
   "nbconvert_exporter": "python",
   "pygments_lexer": "ipython3",
   "version": "3.9.12"
  }
 },
 "nbformat": 4,
 "nbformat_minor": 2
}
